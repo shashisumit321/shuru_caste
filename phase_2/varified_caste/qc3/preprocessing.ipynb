{
 "cells": [
  {
   "cell_type": "code",
   "execution_count": 1,
   "id": "694e42e6",
   "metadata": {},
   "outputs": [],
   "source": [
    "import pandas as pd"
   ]
  },
  {
   "cell_type": "code",
   "execution_count": 15,
   "id": "4ba3b598",
   "metadata": {},
   "outputs": [
    {
     "name": "stdout",
     "output_type": "stream",
     "text": [
      "✅ HTML saved to page.html\n"
     ]
    }
   ],
   "source": [
    "import nest_asyncio\n",
    "import asyncio\n",
    "from playwright.async_api import async_playwright\n",
    "\n",
    "nest_asyncio.apply()\n",
    "\n",
    "async def print_html():\n",
    "    async with async_playwright() as p:\n",
    "        browser = await p.chromium.launch(headless=False)\n",
    "        page = await browser.new_page()\n",
    "\n",
    "        await page.goto(\"https://www.shadi.com/matrimony/directory/c/Casts/page/1\")\n",
    "        await page.wait_for_timeout(5000)  # Wait for full load\n",
    "\n",
    "        content = await page.content()\n",
    "        with open(\"page.html\", \"w\", encoding=\"utf-8\") as f:\n",
    "            f.write(content)\n",
    "        print(\"✅ HTML saved to page.html\")\n",
    "\n",
    "        await browser.close()\n",
    "\n",
    "await print_html()"
   ]
  },
  {
   "cell_type": "code",
   "execution_count": null,
   "id": "89b1acb7",
   "metadata": {},
   "outputs": [
    {
     "name": "stdout",
     "output_type": "stream",
     "text": [
      "Visiting: https://www.shadi.com/matrimony/directory/c/Casts/page/1\n",
      "\n",
      "✅ Total castes: 20\n",
      "96K Kokanastha\n",
      "Adi Dravida\n",
      "Agamudayaar\n",
      "Agarwal\n",
      "Agrahari\n",
      "Anglican\n",
      "Arora\n",
      "Arya Vysya\n",
      "Balija Naidu\n",
      "Bangla\n",
      "Bania\n",
      "Banjara\n",
      "Baptist\n",
      "Bengali\n",
      "Besta\n",
      "Bhandari\n",
      "Billava\n",
      "Born Again\n",
      "Ganiga\n",
      "Medatwal\n"
     ]
    }
   ],
   "source": [
    "import nest_asyncio\n",
    "import asyncio\n",
    "from playwright.async_api import async_playwright\n",
    "import pandas as pd\n",
    "\n",
    "nest_asyncio.apply()\n",
    "\n",
    "async def scrape_castes():\n",
    "    caste_names = set()\n",
    "\n",
    "    async with async_playwright() as p:\n",
    "        browser = await p.chromium.launch(headless=False)\n",
    "        page = await browser.new_page()\n",
    "\n",
    "        for page_num in range(1, 10):  # Adjust range as needed\n",
    "            url = f\"https://www.shadi.com/matrimony/directory/c/Casts/page/{page_num}\"\n",
    "            print(f\"Visiting: {url}\")\n",
    "            await page.goto(url)\n",
    "            await page.wait_for_timeout(4000)\n",
    "\n",
    "            # Only collect links with \"Matrimony\" in text\n",
    "            links = await page.query_selector_all(\"div.directory_lnk_wrapper a\")\n",
    "            for link in links:\n",
    "                text = await link.inner_text()\n",
    "                if \"Matrimony\" in text:\n",
    "                    caste = text.replace(\"Matrimony\", \"\").strip()\n",
    "                    caste_names.add(caste)\n",
    "\n",
    "        await browser.close()\n",
    "    return sorted(caste_names)\n",
    "\n",
    "# Run the function in Jupyter\n",
    "castes = await scrape_castes()\n",
    "\n",
    "# Print and save\n",
    "print(f\"\\n✅ Total castes: {len(castes)}\")\n",
    "for caste in castes:\n",
    "    print(caste)\n",
    "\n",
    "pd.DataFrame(castes, columns=[\"Caste\"]).to_csv(\"shadi.com_castes.csv\", index=False)"
   ]
  },
  {
   "cell_type": "code",
   "execution_count": 8,
   "id": "5d57a95d",
   "metadata": {},
   "outputs": [
    {
     "ename": "SyntaxError",
     "evalue": "invalid syntax (2648168399.py, line 1)",
     "output_type": "error",
     "traceback": [
      "\u001b[0;36m  Cell \u001b[0;32mIn[8], line 1\u001b[0;36m\u001b[0m\n\u001b[0;31m    pip install playwright\u001b[0m\n\u001b[0m        ^\u001b[0m\n\u001b[0;31mSyntaxError\u001b[0m\u001b[0;31m:\u001b[0m invalid syntax\n"
     ]
    }
   ],
   "source": [
    "pip install playwright\n",
    "playwright install"
   ]
  },
  {
   "cell_type": "code",
   "execution_count": null,
   "id": "6a721506",
   "metadata": {},
   "outputs": [],
   "source": []
  }
 ],
 "metadata": {
  "kernelspec": {
   "display_name": "base",
   "language": "python",
   "name": "python3"
  },
  "language_info": {
   "codemirror_mode": {
    "name": "ipython",
    "version": 3
   },
   "file_extension": ".py",
   "mimetype": "text/x-python",
   "name": "python",
   "nbconvert_exporter": "python",
   "pygments_lexer": "ipython3",
   "version": "3.12.7"
  }
 },
 "nbformat": 4,
 "nbformat_minor": 5
}
